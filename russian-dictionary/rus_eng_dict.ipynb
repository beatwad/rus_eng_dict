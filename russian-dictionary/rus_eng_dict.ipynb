{
 "cells": [
  {
   "cell_type": "markdown",
   "metadata": {},
   "source": [
    "# Create Russian-English dictionary"
   ]
  },
  {
   "cell_type": "code",
   "execution_count": 2,
   "metadata": {},
   "outputs": [],
   "source": [
    "# A script that grabs 20000 words from this page:\n",
    "# \"https://en.wiktionary.org/wiki/Appendix:\n",
    "# Frequency_dictionary_of_the_modern_Russian_language_(the_Russian_National_Corpus)\"\n",
    "\n",
    "# First step is download 20000 words and save them to database:\n",
    "# 1- create_database()\n",
    "# 2- scrape_words()\n",
    "# 3- for word in words: insert_russian_word(word)\n",
    "# -----------\n",
    "# Second step is to use the yandex api.\n",
    "# 1- translate_word(russian)\n",
    "# 2- insert_english_word(english, russian)\n",
    "\n",
    "import sqlite3 as sqlite\n",
    "import requests\n",
    "import threading\n",
    "import json\n",
    "# from multiprocessing import ThreadPool\n",
    "from bs4 import BeautifulSoup as Soup\n",
    "\n",
    "def get_connection():\n",
    "    connection = sqlite.connect(\"dictionary.db\")\n",
    "    cursor     = connection.cursor()\n",
    "    return (connection, cursor)\n",
    "\n",
    "def create_table(connection, cursor):\n",
    "    query = \"\"\"create table if not exists words\n",
    "\t\t\t\t(id integer primary key autoincrement, russian text, english text)\"\"\"\n",
    "    cursor.execute(query)\n",
    "    connection.commit()\n",
    "\n",
    "\n",
    "def close_connection(connection, cursor):\n",
    "    cursor.close()\n",
    "    connection.close()\n",
    "\n",
    "\n",
    "# Seeds the database with russian words\n",
    "def insert_russian_word(connection, cursor, russian):\n",
    "    query = \"insert into words(russian) values(?)\"\n",
    "    cursor.execute(query, (russian,))\n",
    "    connection.commit()\n",
    "\n",
    "\n",
    "# Inserts one english word, based on a russian word.\n",
    "def insert_english_word(connection, cursor, english, russian):\n",
    "    # Getting the russian word at first, to be used in a later insert statmenet.\n",
    "    cursor.execute(\"select * from words where russian = ?\", (russian,))\n",
    "    russian_word = cursor.fetchone()\n",
    "\n",
    "    # Checking if a russian word is found\n",
    "    if russian_word:\n",
    "        cursor.execute(\"update words set english = ? where russian = ?\", (english, russian))\n",
    "        connection.commit()\n",
    "\n",
    "# Selects all available russian words from the database.\n",
    "# To be used with translate_word, to fill the database with translations.\n",
    "def select_russian_words(connection, cursor):\n",
    "    cursor.execute(\"select * from words\")\n",
    "    words = cursor.fetchall()\n",
    "    return words\n",
    "\n",
    "\n",
    "# Translates a russian word from the Yandex API\n",
    "def translate_word(russian):\n",
    "    url  = \"https://translate.yandex.net/api/v1.5/tr.json/translate\"\n",
    "    lang = \"ru-en\"\n",
    "    key  = \"trnsl.1.1.20170705T055512Z.437b273da55b7cc1.caf5daa0f6bb99bc383e2ba743ab2c699ba26973\"\n",
    "    request = requests.get(url, data={\"key\": key, \"lang\": lang, \"text\": russian })\n",
    "    response = json.loads(request.text)\n",
    "    # print(response.values())\n",
    "    if \"text\" in response:\n",
    "        return response[\"text\"][0]\n",
    "    else:\n",
    "        return \"\"\n",
    "\n",
    "\n",
    "# Scrapes 20000 words from wikipedia, and saves to database\n",
    "def scrape_words():\n",
    "    url = \"https://en.wiktionary.org/wiki/Appendix:\"\n",
    "    url += \"Frequency_dictionary_of_the_modern_Russian_language_(the_Russian_National_Corpus)\"\n",
    "\n",
    "    request = requests.get(url)\n",
    "    soup    = Soup(request.content, \"html.parser\")\n",
    "\n",
    "    # The parent div that contains all of the wanted words.\n",
    "    parent_div = soup.find(\"div\", {\"class\": \"mw-parser-output\"})\n",
    "    link_tags  = parent_div.find_all(\"a\")\n",
    "    # Other links don't containt russian words.\n",
    "    words      = link_tags[2:20003]\n",
    "    return words\n",
    "\n",
    "def main():\n",
    "    connection, cursor = get_connection()\n",
    "    create_table(connection, cursor)\n",
    "\n",
    "    # scrapes and returns 20000 words.\n",
    "    words = scrape_words()\n",
    "    for word in words:\n",
    "        insert_russian_word(connection, cursor, word.get_text())\n",
    "\n",
    "    # woman = translate_word(\"женщина\")\n",
    "    # boy   = translate_word(\"мальчик\")\n",
    "\n",
    "    # All russian words from the database\n",
    "    russian_words = select_russian_words(connection, cursor)\n",
    "\n",
    "    # for word in russian_words[17500:20003]:\n",
    "    for word in russian_words:\n",
    "        # Translates form yandex api, and returns either a word or an empty value\n",
    "        russian_word = word[1]\n",
    "        # print(russian_word)\n",
    "        english_word = translate_word(russian_word)\n",
    "        # print(\"%s = %s\" % (russian_word, english_word))\n",
    "        insert_english_word(connection, cursor, english_word, russian_word)\n",
    "\n",
    "\n",
    "    close_connection(connection, cursor)\n",
    "\n",
    "create_dict = False\n",
    "    \n",
    "if create_dict:\n",
    "    main()"
   ]
  },
  {
   "cell_type": "markdown",
   "metadata": {},
   "source": [
    "# Connect to database"
   ]
  },
  {
   "cell_type": "code",
   "execution_count": 3,
   "metadata": {},
   "outputs": [
    {
     "data": {
      "text/plain": [
       "[('words',), ('sqlite_sequence',)]"
      ]
     },
     "execution_count": 3,
     "metadata": {},
     "output_type": "execute_result"
    }
   ],
   "source": [
    "connection = sqlite.connect(\"dictionary.db\")\n",
    "\n",
    "sql_query = \"\"\"SELECT name FROM sqlite_master  \n",
    "  WHERE type='table';\"\"\"\n",
    "\n",
    "cursor = connection.cursor()\n",
    "cursor.execute(sql_query).fetchall()"
   ]
  },
  {
   "cell_type": "markdown",
   "metadata": {},
   "source": [
    "# Get word from Russian-English dictionary"
   ]
  },
  {
   "cell_type": "code",
   "execution_count": 4,
   "metadata": {},
   "outputs": [
    {
     "name": "stdout",
     "output_type": "stream",
     "text": [
      "Russian word: соответственно\n",
      "Enter translation: \n",
      "Wrong, correct is: accordingly\n"
     ]
    }
   ],
   "source": [
    "rows = cursor.execute(\"SELECT * FROM words ORDER BY RANDOM() LIMIT 1\").fetchall()\n",
    "\n",
    "rus, eng = rows[0][1], rows[0][2]\n",
    "\n",
    "print(f\"Russian word: {rus}\")\n",
    "eng_prop = input(\"Enter translation: \")\n",
    "\n",
    "if eng_prop == eng or eng_prop in eng.split(' '):\n",
    "    print (\"Correct\")\n",
    "else:\n",
    "    print(f\"Wrong, correct is: {eng}\")"
   ]
  }
 ],
 "metadata": {
  "kernelspec": {
   "display_name": "Python 3",
   "language": "python",
   "name": "python3"
  },
  "language_info": {
   "codemirror_mode": {
    "name": "ipython",
    "version": 3
   },
   "file_extension": ".py",
   "mimetype": "text/x-python",
   "name": "python",
   "nbconvert_exporter": "python",
   "pygments_lexer": "ipython3",
   "version": "3.7.2"
  }
 },
 "nbformat": 4,
 "nbformat_minor": 4
}
